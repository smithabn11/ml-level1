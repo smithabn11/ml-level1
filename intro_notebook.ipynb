{
 "cells": [
  {
   "cell_type": "markdown",
   "metadata": {},
   "source": [
    "# Machine Learning lab\n",
    "\n",
    "Welcome to the world of machine learning. In this notebook let's explore what is machine learning and apply it to solve a classification problem.\n",
    "\n",
    "## What is Python?\n",
    "Python is an interpreted, high-level, general-purpose programming language.\n",
    "\n",
    "## Python Libraries\n",
    "Python library is a collection of functions and methods that lets you perform lots of actions without writing your own code [reference](https://www.quora.com/What-is-a-Python-library-and-what-can-I-use-it-for). In this lab we will use:\n",
    "\n",
    "- **scipy**: SciPy is a free and open-source Python library used for scientific computing and technical computing. \n",
    "- **numpy**: NumPy is a library for the Python programming language, adding support for large, multi-dimensional arrays and matrices, along with a large collection of high-level mathematical functions to operate on these arrays.\n",
    "- **matplotlib**: Matplotlib is a Python 2D plotting library which produces publication quality figures in a variety of hardcopy formats and interactive environments across platforms\n",
    "- **pandas**:  Pandas is a software library written for the Python programming language for data manipulation and analysis. \n",
    "- **sklearn**: Scikit-learn (formerly scikits.learn) is a free software machine learning library for the Python programming language. It features various classification/regression (supervised) and clustering (unsupervised) algorithms.\n",
    "\n",
    "Note: These python libraries are installed in your virtual environment using pip and requirements.txt\n"
   ]
  },
  {
   "cell_type": "markdown",
   "metadata": {},
   "source": [
    "### You will learn in this notebook:\n",
    "\n",
    "1. What is machine learning a very high level view\n",
    "2. Different types of machine learning problems\n",
    "3. Understanding data and output used for machine learning using a sample data"
   ]
  },
  {
   "cell_type": "markdown",
   "metadata": {},
   "source": [
    "# What is machine learning?\n",
    "Machine learning (ML) describes algorithms that look at data and correct output for that data and learn from it.\n",
    "An ML program will try to learn the relationship between input data and the output.\n",
    "\n",
    "A machine learning program:\n",
    "1. May extract the features of the dataset (e.g., shape or color) for a given problem (e.g., separating apples and oranges); or we will explicitly define the features.\n",
    "2. Uses the observed features and correct output (also called 'labels') to learn the results (e.g., it is an apple or it is an orange).\n",
    "3. Saves the observed results as a machine learning model for later use.\n",
    "4. Uses the saved results in the machine learning model to predict the output for a new data instance (is this an apple or an orange?)\n",
    "\n",
    "## What is a feature in machine learning?\n",
    "\n",
    "A feature is an individual measurable property or characteristic of a phenomenon being observed. For example, an apple is red, green, or pink.  A banana is yellow.  An apple is round.  A banana is oblong and tapered at the ends. \n",
    "[Reference](https://www.google.com/url?sa=t&rct=j&q=&esrc=s&source=web&cd=2&cad=rja&uact=8&ved=2ahUKEwjY9KX3pKLeAhUN7p8KHTbwAMUQFjABegQIChAB&url=https%3A%2F%2Fwww.springer.com%2Fus%2Fbook%2F9780387310732&usg=AOvVaw19ZfKiiH_u4x4lnbqIQ-Zp)\n",
    "\n",
    "Let's consider a task of separating green apples vs oranges from a box which contains both. There are a few properties like shape, weight, color which we can use to separate them. These properties are the features for the machine learning task. Let's see what makes a good feature below."
   ]
  },
  {
   "cell_type": "markdown",
   "metadata": {},
   "source": [
    "## Supervised machine learning:\n",
    "1. Classification\n",
    "2. Regression\n",
    "\n",
    "The problem presented above (separating green apples vs oranges) is a classification task.\n",
    "\n",
    "An example of a regression task is determining the <b>price</b> of an apple using all the appropriate features that contribute to the price.  A machine learning program will use features like weight, quality, source, season, price of alternatives, availability, etc. to determine an approximate price."
   ]
  },
  {
   "cell_type": "markdown",
   "metadata": {},
   "source": [
    "# Sample problem dataset\n",
    "\n",
    "The data set consists of ten baseline variables, age, sex, body mass index, average blood pressure, and six blood serum measurements were obtained for each of n = 442 diabetes patients and a quantitative measure of disease progression one year after baseline. \n",
    "The goal is given a new data point with age, sex, body mass index, average blood pressure, and six blood serum measurements for a new patient we should be able predict a quantitative measure of disease progression in one year for that patient."
   ]
  },
  {
   "cell_type": "markdown",
   "metadata": {},
   "source": [
    "## Load libraries\n",
    "Before we start let's import the libraries necessary for this lab."
   ]
  },
  {
   "cell_type": "code",
   "execution_count": null,
   "metadata": {},
   "outputs": [],
   "source": [
    "from IPython.display import display, HTML\n",
    "import pandas as pd\n",
    "from pandas.plotting import scatter_matrix\n",
    "import matplotlib.pyplot as plt\n",
    "import numpy as np\n",
    "from sklearn import datasets\n",
    "import warnings\n",
    "warnings.filterwarnings(\"ignore\")"
   ]
  },
  {
   "cell_type": "markdown",
   "metadata": {},
   "source": [
    "All the libraries should load without any error. If there is an error Module Not Found then that library is missing in your virtual environment and need to install that."
   ]
  },
  {
   "cell_type": "markdown",
   "metadata": {},
   "source": [
    "## Load Dataset"
   ]
  },
  {
   "cell_type": "code",
   "execution_count": null,
   "metadata": {},
   "outputs": [],
   "source": [
    "# Load the diabetes dataset\n",
    "diabetes_dataset = datasets.load_diabetes()"
   ]
  },
  {
   "cell_type": "markdown",
   "metadata": {},
   "source": [
    "The dataset should load without any errors."
   ]
  },
  {
   "cell_type": "markdown",
   "metadata": {},
   "source": [
    "## Analyze data\n",
    "Now let's try to look at data.\n",
    "\n",
    "In this step we are going to take a look at the data in different ways:\n",
    "\n",
    "1. Type of dataset\n",
    "2. Dimensions of the dataset.\n",
    "3. Peek at the data itself.\n",
    "4. Statistical summary of all attributes."
   ]
  },
  {
   "cell_type": "markdown",
   "metadata": {},
   "source": [
    "### Convert diabetes_dataset to pandas dataframe to visualize "
   ]
  },
  {
   "cell_type": "code",
   "execution_count": null,
   "metadata": {},
   "outputs": [],
   "source": [
    "diabetes_pd = pd.DataFrame(data= np.c_[diabetes_dataset['data'], diabetes_dataset['target']],\n",
    "                     columns= diabetes_dataset['feature_names'] + ['target'])"
   ]
  },
  {
   "cell_type": "markdown",
   "metadata": {},
   "source": [
    "### Dimensions of Dataset\n",
    "We can get a quick idea of how many instances (rows) and how many attributes (columns) the data contains with the shape property."
   ]
  },
  {
   "cell_type": "code",
   "execution_count": null,
   "metadata": {},
   "outputs": [],
   "source": [
    "type(diabetes_pd)"
   ]
  },
  {
   "cell_type": "code",
   "execution_count": null,
   "metadata": {},
   "outputs": [],
   "source": [
    "# shape\n",
    "print(diabetes_pd.shape)"
   ]
  },
  {
   "cell_type": "code",
   "execution_count": null,
   "metadata": {},
   "outputs": [],
   "source": [
    "len(diabetes_pd)"
   ]
  },
  {
   "cell_type": "markdown",
   "metadata": {},
   "source": [
    "Above you will see that the dataset has 442 instances and 11 attributes. Next let's see first few rows of data to and distinguish between features and the output class."
   ]
  },
  {
   "cell_type": "code",
   "execution_count": null,
   "metadata": {},
   "outputs": [],
   "source": [
    "# head\n",
    "diabetes_pd.head(10)"
   ]
  },
  {
   "cell_type": "code",
   "execution_count": null,
   "metadata": {},
   "outputs": [],
   "source": [
    "# print all the column headers\n",
    "diabetes_pd.columns"
   ]
  },
  {
   "cell_type": "markdown",
   "metadata": {},
   "source": [
    "### Statistical Summary\n",
    "\n",
    "Now we can take a look at a summary of each attribute.\n",
    "This includes the count, mean, the min and max values as well as some percentiles."
   ]
  },
  {
   "cell_type": "code",
   "execution_count": null,
   "metadata": {},
   "outputs": [],
   "source": [
    "# descriptions\n",
    "diabetes_pd.describe()"
   ]
  },
  {
   "cell_type": "markdown",
   "metadata": {},
   "source": [
    "# Steps involved in the building a machine learning model\n",
    "\n",
    "The below are the general steps that apply to building a machine learning model.\n",
    "\n",
    "1. Gathering Data: Collect data along with its required attributes and the output you are expecting to solve your problem.\n",
    "\n",
    "2. Data preparation: In this step, we load our data into a suitable place and prepare it for use in our machine learning training. Sometimes the data we collect needs other forms of adjusting, manipulation, and cleanup.\n",
    "\n",
    "3. Choosing a model: There are many machine learning algorithms readily available to try out. In general, figure out a category of algorithms that suit your problem. Then you can try them on your dataset. \n",
    "\n",
    "4. Training: Now you have dataset and machine learning algorithm selected. In training step, you can build a model that makes use of a given algorithm to learn the output from your data. This model can be saved for predicting the output on a new data point. \n",
    "Before we start training typically we split the dataset into training and validation sets. Only training set is used for training.\n",
    "\n",
    "5. Evaluation: Once training is complete, it’s time to see if the model is any good, using Evaluation. We will use validation set to measure accuracy and see how well our trained model is able to do a prediction.\n",
    "\n",
    "6. Parameter Tuning: Once you’ve done evaluation, it’s possible that you want to see if you can further improve your training in any way. We can do this by tuning our parameters. There were a few parameters we implicitly assumed when we did our training, and now is a good time to go back and test those assumptions and try other values.\n"
   ]
  },
  {
   "cell_type": "markdown",
   "metadata": {},
   "source": [
    "Next let's take a diabetes sample dataset to solve a regression problem and digits dataset to solve a classification problem in the following notebooks \n",
    "<p>\n",
    "<a href=regression.ipynb>Regression Notebook</a><br>\n",
    "<a href=classification.ipynb>Classification Notebook</a>\n",
    "</p>\n",
    "\n",
    "In both the notebooks you can see steps discussed above being applied."
   ]
  }
 ],
 "metadata": {
  "kernelspec": {
   "display_name": "Python 3",
   "language": "python",
   "name": "python3"
  },
  "language_info": {
   "codemirror_mode": {
    "name": "ipython",
    "version": 3
   },
   "file_extension": ".py",
   "mimetype": "text/x-python",
   "name": "python",
   "nbconvert_exporter": "python",
   "pygments_lexer": "ipython3",
   "version": "3.6.3"
  }
 },
 "nbformat": 4,
 "nbformat_minor": 2
}
